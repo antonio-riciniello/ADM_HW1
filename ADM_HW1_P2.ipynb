{
 "cells": [
  {
   "cell_type": "markdown",
   "id": "88f965c4",
   "metadata": {},
   "source": [
    "### Birthday_Cake_Candles_Exercise_1"
   ]
  },
  {
   "cell_type": "code",
   "execution_count": null,
   "id": "ef0f3576",
   "metadata": {},
   "outputs": [],
   "source": [
    "import math\n",
    "import os\n",
    "import random\n",
    "import re\n",
    "import sys\n",
    "\n",
    "def birthdayCakeCandles(candles):\n",
    "    max_value = max(candles)\n",
    "    return candles.count(max_value)\n",
    "\n",
    "if __name__ == '__main__':\n",
    "    fptr = open(os.environ['OUTPUT_PATH'], 'w')\n",
    "    candles_count = int(input().strip())\n",
    "    candles = list(map(int, input().rstrip().split()))\n",
    "    result = birthdayCakeCandles(candles)\n",
    "    fptr.write(str(result) + '\\n')\n",
    "    fptr.close()"
   ]
  },
  {
   "cell_type": "markdown",
   "id": "bd7bc96f",
   "metadata": {},
   "source": [
    "### Number_Line_Jumps_Exercise_2"
   ]
  },
  {
   "cell_type": "code",
   "execution_count": null,
   "id": "4ea7cc59",
   "metadata": {},
   "outputs": [],
   "source": [
    "import math\n",
    "import os\n",
    "import random\n",
    "import re\n",
    "import sys\n",
    "\n",
    "# k step\n",
    "# k1 position = x1 + k*v1 = x2 + k*v2 = k2 position\n",
    "\n",
    "def kangaroo(x1, v1, x2, v2):\n",
    "    if v2 == v1:   # case step -> infinite \n",
    "        return 'NO'\n",
    "    if (x1 - x2) % (v2 - v1) == 0 and (x1 - x2) / (v2 - v1) >= 0: # the kangaroos meet in a finite number of steps\n",
    "        return 'YES'\n",
    "    else:\n",
    "        return 'NO'\n",
    "\n",
    "if __name__ == '__main__':\n",
    "    fptr = open(os.environ['OUTPUT_PATH'], 'w')\n",
    "    first_multiple_input = input().rstrip().split()\n",
    "    x1 = int(first_multiple_input[0])\n",
    "    v1 = int(first_multiple_input[1])\n",
    "    x2 = int(first_multiple_input[2])\n",
    "    v2 = int(first_multiple_input[3])\n",
    "    result = kangaroo(x1, v1, x2, v2)\n",
    "    fptr.write(result + '\\n')\n",
    "    fptr.close()"
   ]
  },
  {
   "cell_type": "markdown",
   "id": "3edcbe8e",
   "metadata": {},
   "source": [
    "### Viral_Advertising_Exercise_3"
   ]
  },
  {
   "cell_type": "code",
   "execution_count": null,
   "id": "0618dba6",
   "metadata": {},
   "outputs": [],
   "source": [
    "import math\n",
    "import os\n",
    "import random\n",
    "import re\n",
    "import sys\n",
    "\n",
    "def viralAdvertising(n):\n",
    "    shared = []\n",
    "    shared.append(5)\n",
    "    if n == 2:\n",
    "        shared.append(math.floor(shared[0] / 2) * 3)\n",
    "    if n>2:\n",
    "        for i in range(1, n):\n",
    "            shared.append(math.floor(shared[i-1] / 2) * 3)\n",
    "    liked = [math.floor(shared[k] / 2) for k in range(len(shared))]\n",
    "    return sum(liked)\n",
    "\n",
    "if __name__ == '__main__':\n",
    "    fptr = open(os.environ['OUTPUT_PATH'], 'w')\n",
    "    n = int(input().strip())\n",
    "    result = viralAdvertising(n)\n",
    "    fptr.write(str(result) + '\\n')\n",
    "    fptr.close()"
   ]
  },
  {
   "cell_type": "markdown",
   "id": "d9ac2577",
   "metadata": {},
   "source": [
    "### Recursive_Digit_Sum_Exercise_4"
   ]
  },
  {
   "cell_type": "code",
   "execution_count": null,
   "id": "32051038",
   "metadata": {},
   "outputs": [],
   "source": [
    "import math\n",
    "import os\n",
    "import random\n",
    "import re\n",
    "import sys\n",
    "\n",
    "def superDigit(string):\n",
    "    if len(string) == 1:\n",
    "        nstring = string\n",
    "    else:\n",
    "        ch_list = list(string) #list of characters\n",
    "        int_list = [int(i) for i in ch_list] #list of integers\n",
    "        n_string = str(sum(int_list))\n",
    "        if len(n_string) > 1:\n",
    "            n_string = superDigit(n_string)\n",
    "    return n_string\n",
    "\n",
    "#maybe better\n",
    "#def superDigit(string):\n",
    "#    if len(string) == 1:\n",
    "#        return string\n",
    "#    else:\n",
    "#        ch_list = list(string) #list of characters\n",
    "#        int_list = [int(i) for i in ch_list] #list of integers\n",
    "#        return superDigit(str(sum(int_list)))\n",
    "\n",
    "if __name__ == '__main__':\n",
    "    fptr = open(os.environ['OUTPUT_PATH'], 'w')\n",
    "    first_multiple_input = input().rstrip().split()\n",
    "    n = first_multiple_input[0]\n",
    "    k = int(first_multiple_input[1]) \n",
    "    ini_string = n * k #string to be processed by function superDigit\n",
    "    result = superDigit(ini_string)\n",
    "    fptr.write(str(result) + '\\n')\n",
    "    fptr.close()"
   ]
  },
  {
   "cell_type": "markdown",
   "id": "397f92e9",
   "metadata": {},
   "source": [
    "### Insertion_Sort_Part_1_Exercise_5"
   ]
  },
  {
   "cell_type": "code",
   "execution_count": null,
   "id": "cdcfed1a",
   "metadata": {},
   "outputs": [],
   "source": [
    "#In this exercise (and in the netx one) I had to find a solution online.\n",
    "#I am trying to get used to this programming language (new for me).\n",
    "\n",
    "import math\n",
    "import os\n",
    "import random\n",
    "import re\n",
    "import sys\n",
    "\n",
    "def insertionSort1(n, arr):\n",
    "    last = arr[-1]\n",
    "    for i in range(len(arr)-2, -1, -1):\n",
    "        if arr[i] > last:\n",
    "            arr[i+1] = arr[i]\n",
    "            print(\" \".join(map(str, arr)))\n",
    "        else:\n",
    "            arr[i+1] = last\n",
    "            print(\" \".join(map(str, arr)))\n",
    "            break\n",
    "    if arr[0] > last:\n",
    "        arr[0] = last\n",
    "        print(\" \".join(map(str, arr)))\n",
    "\n",
    "if __name__ == '__main__':\n",
    "    n = int(input().strip())\n",
    "    arr = list(map(int, input().rstrip().split()))\n",
    "    insertionSort1(n, arr)"
   ]
  },
  {
   "cell_type": "markdown",
   "id": "e9c09190",
   "metadata": {},
   "source": [
    "### Insertion_Sort_Part_2_Exercise_6"
   ]
  },
  {
   "cell_type": "code",
   "execution_count": null,
   "id": "16634292",
   "metadata": {},
   "outputs": [],
   "source": [
    "import math\n",
    "import os\n",
    "import random\n",
    "import re\n",
    "import sys\n",
    "\n",
    "def insertionSort1(start, arr):\n",
    "    ele = arr[start]\n",
    "    for i in range(start-1, -1, -1):\n",
    "        if arr[i] > ele:\n",
    "            arr[i+1] = arr[i]\n",
    "        else:\n",
    "            arr[i+1] = ele\n",
    "            break\n",
    "    if arr[0] > ele:\n",
    "        arr[0] = ele\n",
    "\n",
    "def insertionSort2(n, arr):\n",
    "    for i in range(1, len(arr)):\n",
    "        insertionSort1(i, arr)\n",
    "        print(\" \".join(map(str, arr)))\n",
    "\n",
    "if __name__ == '__main__':\n",
    "    n = int(input().strip())\n",
    "    arr = list(map(int, input().rstrip().split()))\n",
    "    insertionSort2(n, arr)"
   ]
  }
 ],
 "metadata": {
  "kernelspec": {
   "display_name": "Python 3",
   "language": "python",
   "name": "python3"
  },
  "language_info": {
   "codemirror_mode": {
    "name": "ipython",
    "version": 3
   },
   "file_extension": ".py",
   "mimetype": "text/x-python",
   "name": "python",
   "nbconvert_exporter": "python",
   "pygments_lexer": "ipython3",
   "version": "3.8.8"
  }
 },
 "nbformat": 4,
 "nbformat_minor": 5
}
